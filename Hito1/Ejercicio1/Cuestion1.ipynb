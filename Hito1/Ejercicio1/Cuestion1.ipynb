{
 "cells": [
  {
   "cell_type": "markdown",
   "id": "cb30dd8a",
   "metadata": {},
   "source": [
    "Acceso a datos en Python\n",
    "\n",
    "Diseño de base de datos en SQLite. Base de datos tienda, tabla clientes\n",
    "Diseña un programa en Python que permita acceder a la tabla de clientes\n",
    "Insertar - C\n",
    "Seleccionar - R\n",
    "Update - U\n",
    "Eliminar - D\n",
    "\n"
   ]
  },
  {
   "cell_type": "code",
   "execution_count": 1,
   "id": "d03a3f4e",
   "metadata": {},
   "outputs": [],
   "source": [
    "import sqlite3\n",
    "conexion=sqlite3.connect('tienda.db')"
   ]
  },
  {
   "cell_type": "markdown",
   "id": "07e3db9f",
   "metadata": {},
   "source": [
    "Como tienda.db no existe lo crea\n",
    "\n",
    "Creo la tabla con sus columnas\n"
   ]
  },
  {
   "cell_type": "code",
   "execution_count": 18,
   "id": "8fbc32c1",
   "metadata": {},
   "outputs": [
    {
     "data": {
      "text/plain": [
       "<sqlite3.Cursor at 0x23f5f7aa420>"
      ]
     },
     "execution_count": 18,
     "metadata": {},
     "output_type": "execute_result"
    }
   ],
   "source": [
    "cursor=conexion.cursor()\n",
    "\n",
    "consulta=\"CREATE TABLE CLIENTE(DNI text PRIMARY KEY, NOMBRE text, APELLIDO text, PEDIDO text)\"\n",
    "cursor.execute(consulta)"
   ]
  },
  {
   "cell_type": "markdown",
   "id": "984c1c78",
   "metadata": {},
   "source": [
    "Inserto un cliente\n",
    "\n"
   ]
  },
  {
   "cell_type": "code",
   "execution_count": 19,
   "id": "d62b911d",
   "metadata": {},
   "outputs": [
    {
     "data": {
      "text/plain": [
       "<sqlite3.Cursor at 0x23f5f7aa420>"
      ]
     },
     "execution_count": 19,
     "metadata": {},
     "output_type": "execute_result"
    }
   ],
   "source": [
    "consulta=\"INSERT INTO CLIENTE VALUES('454646464D', 'Javier', 'Garcia', 'AD63218')\"\n",
    "cursor.execute(consulta)"
   ]
  },
  {
   "cell_type": "markdown",
   "id": "0f4d87c7",
   "metadata": {},
   "source": [
    "Muestro el cliente"
   ]
  },
  {
   "cell_type": "code",
   "execution_count": 20,
   "id": "e5f9b2b1",
   "metadata": {},
   "outputs": [
    {
     "name": "stdout",
     "output_type": "stream",
     "text": [
      "[('454646464D', 'Javier', 'Garcia', 'AD63218')]\n"
     ]
    }
   ],
   "source": [
    "consulta=\"SELECT * FROM CLIENTE\"\n",
    "cursor.execute(consulta)\n",
    "resultado=cursor.fetchall()\n",
    "print(resultado)"
   ]
  },
  {
   "cell_type": "markdown",
   "id": "428302ba",
   "metadata": {},
   "source": [
    "Inserto mas clientes"
   ]
  },
  {
   "cell_type": "code",
   "execution_count": 21,
   "id": "4e045ff6",
   "metadata": {},
   "outputs": [
    {
     "data": {
      "text/plain": [
       "<sqlite3.Cursor at 0x23f5f7aa420>"
      ]
     },
     "execution_count": 21,
     "metadata": {},
     "output_type": "execute_result"
    }
   ],
   "source": [
    "consulta=\"INSERT INTO CLIENTE VALUES('43246464D', 'Jorge', 'Gonzalez', 'JU64318')\"\n",
    "cursor.execute(consulta)\n",
    "consulta=\"INSERT INTO CLIENTE VALUES('4433464D', 'Ernest', 'Martinez', 'ER54218')\"\n",
    "cursor.execute(consulta)"
   ]
  },
  {
   "cell_type": "code",
   "execution_count": 22,
   "id": "7061c105",
   "metadata": {},
   "outputs": [
    {
     "name": "stdout",
     "output_type": "stream",
     "text": [
      "[('454646464D', 'Javier', 'Garcia', 'AD63218'), ('43246464D', 'Jorge', 'Gonzalez', 'JU64318'), ('4433464D', 'Ernest', 'Martinez', 'ER54218')]\n"
     ]
    }
   ],
   "source": [
    "consulta=\"SELECT * FROM CLIENTE\"\n",
    "cursor.execute(consulta)\n",
    "resultado=cursor.fetchall()\n",
    "print(resultado)\n",
    "\n"
   ]
  },
  {
   "cell_type": "markdown",
   "id": "5ed99a60",
   "metadata": {},
   "source": [
    "Update: Cambio el nombre de Jorge por Juan"
   ]
  },
  {
   "cell_type": "code",
   "execution_count": 26,
   "id": "99f9960d",
   "metadata": {},
   "outputs": [
    {
     "name": "stdout",
     "output_type": "stream",
     "text": [
      "[('454646464D', 'Javier', 'Garcia', 'AD63218'), ('43246464D', 'Juan', 'Gonzalez', 'JU64318'), ('4433464D', 'Ernest', 'Martinez', 'ER54218')]\n"
     ]
    }
   ],
   "source": [
    "consulta=\"UPDATE CLIENTE SET Nombre='Juan' WHERE DNI='43246464D';\"\n",
    "cursor.execute(consulta)\n",
    "consulta=\"SELECT * FROM CLIENTE\"\n",
    "cursor.execute(consulta)\n",
    "resultado=cursor.fetchall()\n",
    "print(resultado)\n"
   ]
  },
  {
   "cell_type": "markdown",
   "id": "07e0338d",
   "metadata": {},
   "source": [
    "Borro a ernest"
   ]
  },
  {
   "cell_type": "code",
   "execution_count": 29,
   "id": "e154639b",
   "metadata": {},
   "outputs": [
    {
     "name": "stdout",
     "output_type": "stream",
     "text": [
      "[('454646464D', 'Javier', 'Garcia', 'AD63218'), ('43246464D', 'Juan', 'Gonzalez', 'JU64318')]\n"
     ]
    }
   ],
   "source": [
    "consulta=\"DELETE FROM CLIENTE  WHERE NOMBRE='Ernest';\"\n",
    "cursor.execute(consulta)\n",
    "consulta=\"SELECT * FROM CLIENTE\"\n",
    "cursor.execute(consulta)\n",
    "resultado=cursor.fetchall()\n",
    "print(resultado)\n",
    "\n"
   ]
  },
  {
   "cell_type": "markdown",
   "id": "dd8387b7",
   "metadata": {},
   "source": [
    "Cierro conexion"
   ]
  },
  {
   "cell_type": "code",
   "execution_count": 30,
   "id": "6bc89e3e",
   "metadata": {},
   "outputs": [],
   "source": [
    "conexion.close()"
   ]
  },
  {
   "cell_type": "markdown",
   "id": "82baef63",
   "metadata": {},
   "source": [
    "Base de datos: https://github.com/AdrianPlaza17/SGE_H1/blob/main/tienda.db"
   ]
  },
  {
   "cell_type": "code",
   "execution_count": null,
   "id": "ae58a94e",
   "metadata": {},
   "outputs": [],
   "source": []
  }
 ],
 "metadata": {
  "kernelspec": {
   "display_name": "Python 3 (ipykernel)",
   "language": "python",
   "name": "python3"
  },
  "language_info": {
   "codemirror_mode": {
    "name": "ipython",
    "version": 3
   },
   "file_extension": ".py",
   "mimetype": "text/x-python",
   "name": "python",
   "nbconvert_exporter": "python",
   "pygments_lexer": "ipython3",
   "version": "3.9.7"
  }
 },
 "nbformat": 4,
 "nbformat_minor": 5
}
